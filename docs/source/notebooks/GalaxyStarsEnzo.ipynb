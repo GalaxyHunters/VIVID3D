{
  "nbformat": 4,
  "nbformat_minor": 0,
  "metadata": {
    "colab": {
      "provenance": [],
      "authorship_tag": "ABX9TyOKQD6irPVBxhqfpqUdGKWt",
      "include_colab_link": true
    },
    "kernelspec": {
      "name": "python3",
      "display_name": "Python 3"
    },
    "language_info": {
      "name": "python"
    }
  },
  "cells": [
    {
      "cell_type": "markdown",
      "metadata": {
        "id": "view-in-github",
        "colab_type": "text"
      },
      "source": [
        "<a href=\"https://colab.research.google.com/github/GalaxyHunters/VIVID3D/blob/docs%2Fexamples/docs/source/notebooks/GalaxyStarsEnzo.ipynb\" target=\"_parent\"><img src=\"https://colab.research.google.com/assets/colab-badge.svg\" alt=\"Open In Colab\"/></a>"
      ]
    },
    {
      "cell_type": "markdown",
      "source": [
        "# Spiral Galaxy (Enzo)"
      ],
      "metadata": {
        "id": "be9_gb6p4QyQ"
      }
    },
    {
      "cell_type": "markdown",
      "source": [
        "## *Prerequisites* (Run Once)"
      ],
      "metadata": {
        "id": "xErWDUlt4kBv"
      }
    },
    {
      "cell_type": "code",
      "execution_count": null,
      "metadata": {
        "cellView": "form",
        "id": "3F5V6lSs4L89"
      },
      "outputs": [],
      "source": [
        "%%capture\n",
        "#@title Installing Libraries\n",
        "!pip install vivid3d\n",
        "!pip install yt"
      ]
    },
    {
      "cell_type": "code",
      "source": [
        "#@title Loading Data with YT\n",
        "import yt\n",
        "import numpy as np\n",
        "\n",
        "ds = yt.load_sample(\"IsolatedGalaxy\")                # Load example data from yt\n",
        "sphere = ds.sphere(center=\"c\", radius=(35, \"kpc\")) # Create sphere object\n",
        "ds.print_stats()"
      ],
      "metadata": {
        "cellView": "form",
        "id": "ZCi8bOhy4ith"
      },
      "execution_count": null,
      "outputs": []
    },
    {
      "cell_type": "markdown",
      "source": [
        "## Creating Model"
      ],
      "metadata": {
        "id": "lxtKbI7l5IW5"
      }
    },
    {
      "cell_type": "code",
      "source": [
        "# Pre-viz\n",
        "#yt.ParticlePlot(ds, ('enzo','x'),('enzo','y'),(\"enzo\", \"Average_creation_time\")).set_cmap((\"enzo\", \"Average_creation_time\"),\"RdBu\")\n",
        "plot = yt.ParticleProjectPlot(ds, \"z\", (\"all\", \"creation_time\")).set_cmap('density', 'RdBu')\n",
        "plot.set_unit((\"all\", \"creation_time\"), \"Myr\")\n",
        "plot.annotate_title(\"Particle Creation Time\")\n",
        "plot.set_log((\"gas\", \"density\"), True)"
      ],
      "metadata": {
        "id": "Jgg9SRqW5KH4"
      },
      "execution_count": null,
      "outputs": []
    },
    {
      "cell_type": "code",
      "source": [
        "creation_time = np.array(sphere[(\"all\", \"creation_time\")].in_units('Myr')) \n",
        "stars_mask = creation_time > 0 # Mask for selecting only cells with stars\n",
        "\n",
        "x = sphere[(\"all\", \"particle_position_x\")].in_units('kpc') # Create list of x grid values\n",
        "y = sphere[(\"all\", \"particle_position_y\")].in_units('kpc') # Create list of y grid values\n",
        "z = sphere[(\"all\", \"particle_position_z\")].in_units('kpc') # Create list of z grid values\n",
        "\n",
        "stars = np.array(list(zip(x, y, z)))[stars_mask]           # Transform XYZ to Point3DArray and mask by creation_time\n",
        "color_field = creation_time[stars_mask]                    # Selected particles color_field\n",
        "print(color_field.min(), color_field.max())       \n",
        "print(len(color_field))\n",
        "\n",
        "star_field = vivid3d.PointCloud(stars, color_field) # Create PointCloud object"
      ],
      "metadata": {
        "id": "WkCb3zOJ5sA6"
      },
      "execution_count": null,
      "outputs": []
    },
    {
      "cell_type": "code",
      "source": [
        "# Making the stars glowy!\n",
        "emissive = vivid3d.Material(emissive_strength=1.0, emissive_color=\"white\")\n",
        "star_field.material = emissive\n",
        "star_field.colormap = \"RdBu\" # Old stars are red, young stars are blue\n",
        "\n",
        "star_field.show()"
      ],
      "metadata": {
        "id": "76fBZY2s6OLf"
      },
      "execution_count": null,
      "outputs": []
    }
  ]
}